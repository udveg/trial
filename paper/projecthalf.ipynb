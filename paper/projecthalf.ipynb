{
 "cells": [
  {
   "cell_type": "markdown",
   "id": "deb95ee9-02e4-46a9-8281-2ba9f04515f9",
   "metadata": {},
   "source": [
    "# Chicago crime dataset analysis \n",
    "This Notebook contains Chicago crime data analysis for the last ten years (2011-2021) <br>\n",
    "The dataset was collected from the ‘city of chicago’ official website which has many public datasets.<br>\n",
    "\n",
    "## Dataset Description\n",
    "For this particular project I have used three datasets ,the first dataset is the actual crime dataset which contains information about the crime that is time, location, category and primary type. The second dataframe is about the districts in chicago which contains district name and chicago district number which I will further use for getting an comprehensive idea about the crimes in chicago based on different districts. The dataset consists of 22 columns and 7.5 Million rows (dataset size 1.78GB). The dataset has information about the\n",
    "reported crimes from 2001 in the city of chicago except for the murders.\n",
    "\n",
    "* The dataset about the crime and IUCR can be found in the Chicago's official [website.](https://data.cityofchicago.org/Public-Safety/Crimes-One-year-prior-to-present/x2n5-8w5q)\n",
    "* The dataset which had information about disricts was also from the same portal. \n",
    "\n",
    "--- \n",
    "\n",
    "<br>\n",
    "\n",
    "The aim of the project is to find out the crimes which occured more often, find the crime rate trend across the years and during which month and hour of the day crime rate was highest. Using the second dataset I want to get the district naes and join the two dataframes so that we can evaluate the crimes based on district. Intitially the dataset had many null values and even the schema was not properly defined so I have to perform EDA before I do any transformation on the data. As the spark doesn't have any inbuilt libraries for plotting I will be using matplotlib to plot and I will be also using sql functions to effectively work on dataframe. "
   ]
  },
  {
   "cell_type": "markdown",
   "id": "03a074cf-51e7-44fb-bfb7-1aee51666246",
   "metadata": {},
   "source": [
    "### Importing all the useful Libraries"
   ]
  },
  {
   "cell_type": "code",
   "execution_count": 1,
   "id": "49254909-c73b-40f5-b5a3-3fabeec405bf",
   "metadata": {
    "id": "49254909-c73b-40f5-b5a3-3fabeec405bf"
   },
   "outputs": [],
   "source": [
    "from pyspark import SparkContext\n",
    "from pyspark.sql import SparkSession\n",
    "from pyspark.sql import DataFrame\n",
    "import csv\n",
    "from pyspark.sql.types import *\n",
    "from pyspark.sql.functions import format_number, when\n",
    "import pandas as pd\n",
    "import matplotlib.pyplot as plt\n",
    "import os\n",
    "import pandas as pd\n",
    "import datetime\n",
    "from pyspark.sql.functions import *\n"
   ]
  },
  {
   "cell_type": "code",
   "execution_count": 2,
   "id": "2b8bee8c-5190-4623-8e9e-765a8cf16802",
   "metadata": {
    "id": "2b8bee8c-5190-4623-8e9e-765a8cf16802"
   },
   "outputs": [],
   "source": [
    "from pyspark.sql import functions as F"
   ]
  },
  {
   "cell_type": "code",
   "execution_count": 3,
   "id": "f5b0327c-2983-4efe-ad59-fff10357f69f",
   "metadata": {
    "id": "f5b0327c-2983-4efe-ad59-fff10357f69f"
   },
   "outputs": [],
   "source": [
    "import pyspark\n",
    "spark = pyspark.sql.SparkSession.builder.getOrCreate()\n",
    "sc = spark.sparkContext"
   ]
  },
  {
   "cell_type": "code",
   "execution_count": 4,
   "id": "8ba253e7-aae7-4a73-b7c1-2c6031ded5a0",
   "metadata": {
    "id": "8ba253e7-aae7-4a73-b7c1-2c6031ded5a0"
   },
   "outputs": [],
   "source": [
    "from pyspark.sql import SparkSession\n",
    "spark = SparkSession.builder.getOrCreate()"
   ]
  },
  {
   "cell_type": "code",
   "execution_count": 5,
   "id": "3f14ef98-7d0a-4f15-9e8b-9e12e6674ad5",
   "metadata": {
    "id": "3f14ef98-7d0a-4f15-9e8b-9e12e6674ad5",
    "outputId": "4662c81e-e84a-4267-8516-2fad91f6d673"
   },
   "outputs": [
    {
     "data": {
      "text/html": [
       "\n",
       "            <div>\n",
       "                <p><b>SparkSession - in-memory</b></p>\n",
       "                \n",
       "        <div>\n",
       "            <p><b>SparkContext</b></p>\n",
       "\n",
       "            <p><a href=\"http://3fb7a94cf5b8:4040\">Spark UI</a></p>\n",
       "\n",
       "            <dl>\n",
       "              <dt>Version</dt>\n",
       "                <dd><code>v3.2.1</code></dd>\n",
       "              <dt>Master</dt>\n",
       "                <dd><code>local[*]</code></dd>\n",
       "              <dt>AppName</dt>\n",
       "                <dd><code>pyspark-shell</code></dd>\n",
       "            </dl>\n",
       "        </div>\n",
       "        \n",
       "            </div>\n",
       "        "
      ],
      "text/plain": [
       "<pyspark.sql.session.SparkSession at 0xffff74ffa0a0>"
      ]
     },
     "execution_count": 5,
     "metadata": {},
     "output_type": "execute_result"
    }
   ],
   "source": [
    "spark"
   ]
  },
  {
   "cell_type": "markdown",
   "id": "8f5c7f6f-4ec7-4882-9211-866bdc48d24f",
   "metadata": {
    "id": "8f5c7f6f-4ec7-4882-9211-866bdc48d24f"
   },
   "source": [
    "### Defining the schema"
   ]
  },
  {
   "cell_type": "code",
   "execution_count": 6,
   "id": "fb42757a-e2d0-4488-9785-1d749e5bfa71",
   "metadata": {
    "id": "fb42757a-e2d0-4488-9785-1d749e5bfa71"
   },
   "outputs": [],
   "source": [
    "crime_schema = StructType([StructField(\"ID\", StringType(), True),\n",
    "                            StructField(\"Case Number\", StringType(), True),\n",
    "                            StructField(\"Date\", StringType(), True ),\n",
    "                            StructField(\"Block\", StringType(), True),\n",
    "                            StructField(\"IUCR\", StringType(), True),\n",
    "                            StructField(\"Primary Type\", StringType(), True  ),\n",
    "                            StructField(\"Description\", StringType(), True ),\n",
    "                            StructField(\"Location Description\", StringType(), True ),\n",
    "                            StructField(\"Arrest\", BooleanType(), True),\n",
    "                            StructField(\"Domestic\", BooleanType(), True),\n",
    "                            StructField(\"Beat\", StringType(), True),\n",
    "                            StructField(\"District\", IntegerType(), True),\n",
    "                            StructField(\"Ward\", StringType(), True),\n",
    "                            StructField(\"Community Area\", StringType(), True),\n",
    "                            StructField(\"FBI Code\", StringType(), True ),\n",
    "                            StructField(\"X Coordinate\", DoubleType(), True),\n",
    "                            StructField(\"Y Coordinate\", DoubleType(), True ),\n",
    "                            StructField(\"Year\", IntegerType(), True),\n",
    "                            StructField(\"Updated On\", DateType(), True ),\n",
    "                            StructField(\"Latitude\", DoubleType(), True),\n",
    "                            StructField(\"Longitude\", DoubleType(), True),\n",
    "                            StructField(\"Location\", StringType(), True )\n",
    "                            ])"
   ]
  },
  {
   "cell_type": "markdown",
   "id": "c4f3069d-c7e0-4720-88ad-69796163aaf2",
   "metadata": {},
   "source": [
    "### Reading the dataframe (First Dataframe)"
   ]
  },
  {
   "cell_type": "code",
   "execution_count": 7,
   "id": "cc62a891-4ba5-44f1-94bb-ae708b25cd48",
   "metadata": {
    "id": "cc62a891-4ba5-44f1-94bb-ae708b25cd48"
   },
   "outputs": [],
   "source": [
    "df1 = spark.read.csv(\"crime_chicago.csv\",sep=\",\", header=True, nullValue='NA', schema=crime_schema)"
   ]
  },
  {
   "cell_type": "code",
   "execution_count": 14,
   "id": "7b287ffb-2468-40cd-ac14-6e3acc56fb47",
   "metadata": {
    "id": "7b287ffb-2468-40cd-ac14-6e3acc56fb47",
    "outputId": "c9892ff4-5013-44ba-8a9b-fa9e775584cc"
   },
   "outputs": [
    {
     "name": "stdout",
     "output_type": "stream",
     "text": [
      "+--------+-----------+--------------------+--------------------+----+------------------+--------------------+--------------------+------+--------+----+--------+----+--------------+--------+------------+------------+----+----------+------------+-------------+--------------------+\n",
      "|      ID|Case Number|                Date|               Block|IUCR|      Primary Type|         Description|Location Description|Arrest|Domestic|Beat|District|Ward|Community Area|FBI Code|X Coordinate|Y Coordinate|Year|Updated On|    Latitude|    Longitude|            Location|\n",
      "+--------+-----------+--------------------+--------------------+----+------------------+--------------------+--------------------+------+--------+----+--------+----+--------------+--------+------------+------------+----+----------+------------+-------------+--------------------+\n",
      "|10224738|   HY411648|09/05/2015 01:30:...|     043XX S WOOD ST|0486|           BATTERY|DOMESTIC BATTERY ...|           RESIDENCE| false|    true|0924|       9|  12|            61|     08B|   1165074.0|   1875917.0|2015|      null|41.815117282|-87.669999562|(41.815117282, -8...|\n",
      "|10224739|   HY411615|09/04/2015 11:30:...| 008XX N CENTRAL AVE|0870|             THEFT|      POCKET-PICKING|             CTA BUS| false|   false|1511|      15|  29|            25|      06|   1138875.0|   1904869.0|2015|      null|41.895080471|-87.765400451|(41.895080471, -8...|\n",
      "|11646166|   JC213529|09/01/2018 12:01:...|082XX S INGLESIDE...|0810|             THEFT|           OVER $500|           RESIDENCE| false|    true|0631|       6|   8|            44|      06|        null|        null|2018|      null|        null|         null|                null|\n",
      "|10224740|   HY411595|09/05/2015 12:45:...|   035XX W BARRY AVE|2023|         NARCOTICS|POSS: HEROIN(BRN/...|            SIDEWALK|  true|   false|1412|      14|  35|            21|      18|   1152037.0|   1920384.0|2015|      null|41.937405765|-87.716649687|(41.937405765, -8...|\n",
      "|10224741|   HY411610|09/05/2015 01:00:...| 0000X N LARAMIE AVE|0560|           ASSAULT|              SIMPLE|           APARTMENT| false|    true|1522|      15|  28|            25|     08A|   1141706.0|   1900086.0|2015|      null|41.881903443|-87.755121152|(41.881903443, -8...|\n",
      "|10224742|   HY411435|09/05/2015 10:55:...| 082XX S LOOMIS BLVD|0610|          BURGLARY|      FORCIBLE ENTRY|           RESIDENCE| false|   false|0614|       6|  21|            71|      05|   1168430.0|   1850165.0|2015|      null|41.744378879|-87.658430635|(41.744378879, -8...|\n",
      "|10224743|   HY411629|09/04/2015 06:00:...|021XX W CHURCHILL ST|0620|          BURGLARY|      UNLAWFUL ENTRY|    RESIDENCE-GARAGE| false|   false|1434|      14|  32|            24|      05|   1161628.0|   1912157.0|2015|      null|41.914635603|-87.681630909|(41.914635603, -8...|\n",
      "|10224744|   HY411605|09/05/2015 01:00:...|   025XX W CERMAK RD|0860|             THEFT|        RETAIL THEFT|  GROCERY FOOD STORE|  true|   false|1034|      10|  25|            31|      06|   1159734.0|   1889313.0|2015|      null|41.851988885|-87.689219118|(41.851988885, -8...|\n",
      "|10224745|   HY411654|09/05/2015 11:30:...|031XX W WASHINGTO...|0320|           ROBBERY|STRONGARM - NO WE...|              STREET| false|    true|1222|      12|  27|            27|      03|   1155536.0|   1900515.0|2015|      null| 41.88281374|-87.704325717|(41.88281374, -87...|\n",
      "|11645836|   JC212333|05/01/2016 12:25:...| 055XX S ROCKWELL ST|1153|DECEPTIVE PRACTICE|FINANCIAL IDENTIT...|                null| false|   false|0824|       8|  15|            63|      11|        null|        null|2016|      null|        null|         null|                null|\n",
      "|10224746|   HY411662|09/05/2015 02:00:...|  071XX S PULASKI RD|0820|             THEFT|      $500 AND UNDER|PARKING LOT/GARAG...| false|   false|0833|       8|  13|            65|      06|   1150938.0|   1857056.0|2015|      null|41.763647552|-87.722344693|(41.763647552, -8...|\n",
      "|10224749|   HY411626|09/05/2015 11:00:...|052XX N MILWAUKEE...|0460|           BATTERY|              SIMPLE|  SMALL RETAIL STORE| false|   false|1623|      16|  45|            11|     08B|   1137969.0|   1934340.0|2015|      null|41.975968415|-87.768014257|(41.975968415, -8...|\n",
      "|10224750|   HY411632|09/05/2015 03:00:...|    0000X W 103RD ST|2820|     OTHER OFFENSE|    TELEPHONE THREAT|           APARTMENT| false|    true|0512|       5|  34|            49|      26|   1177871.0|   1836676.0|2015|      null|41.707154919|-87.624244993|(41.707154919, -8...|\n",
      "|10224751|   HY411566|09/05/2015 12:50:...|     013XX E 47TH ST|0486|           BATTERY|DOMESTIC BATTERY ...|              STREET| false|    true|0222|       2|   4|            39|     08B|   1185907.0|   1874105.0|2015|      null|41.809678314|-87.593638934|(41.809678314, -8...|\n",
      "|10224752|   HY411601|09/03/2015 01:00:...| 020XX W SCHILLER ST|0810|             THEFT|           OVER $500|              STREET| false|   false|1424|      14|   1|            24|      06|   1162574.0|   1909428.0|2015|      null|41.907127255|-87.678232016|(41.907127255, -8...|\n",
      "|10224753|   HY411489|09/05/2015 11:45:...|  080XX S JUSTINE ST|0497|           BATTERY|AGGRAVATED DOMEST...|           APARTMENT| false|   false|0612|       6|  21|            71|     04B|   1167400.0|   1851512.0|2015|      null|41.748097343|-87.662166183|(41.748097343, -8...|\n",
      "|10224754|   HY411656|09/05/2015 01:30:...|007XX N LEAMINGTO...|1320|   CRIMINAL DAMAGE|          TO VEHICLE|              STREET| false|   false|1531|      15|  28|            25|      14|   1141889.0|   1904448.0|2015|      null|41.893869916|-87.754341096|(41.893869916, -8...|\n",
      "|10224756|   HY410094|07/08/2015 12:00:...|103XX S TORRENCE AVE|0620|          BURGLARY|      UNLAWFUL ENTRY|               OTHER| false|   false|0434|       4|  10|            51|      05|   1195508.0|   1836950.0|2015|      null|41.707490122|-87.559650325|(41.707490122, -8...|\n",
      "|10224757|   HY411388|09/05/2015 09:55:...|  088XX S PAULINA ST|0610|          BURGLARY|      FORCIBLE ENTRY|           RESIDENCE|  true|   false|2221|      22|  21|            71|      05|   1166554.0|   1846067.0|2015|      null|41.733173536|-87.665421067|(41.733173536, -8...|\n",
      "|10224758|   HY411568|09/05/2015 12:35:...|    059XX W GRACE ST|0486|           BATTERY|DOMESTIC BATTERY ...|              STREET| false|    true|1633|      16|  38|            15|     08B|   1136014.0|   1924656.0|2015|      null|41.949429769|-87.775435529|(41.949429769, -8...|\n",
      "+--------+-----------+--------------------+--------------------+----+------------------+--------------------+--------------------+------+--------+----+--------+----+--------------+--------+------------+------------+----+----------+------------+-------------+--------------------+\n",
      "only showing top 20 rows\n",
      "\n"
     ]
    }
   ],
   "source": [
    "df1.show()"
   ]
  },
  {
   "cell_type": "markdown",
   "id": "c551ea03-5c9a-4be6-aaf3-41d22ccc2964",
   "metadata": {},
   "source": [
    "<b>We can see there are many records that have null values and even some columns are not useful, in the next steps we will be cleaning the dataset for further analysis.<b>"
   ]
  },
  {
   "cell_type": "code",
   "execution_count": 15,
   "id": "3e57869f-639a-4fac-9668-684232bad385",
   "metadata": {
    "id": "3e57869f-639a-4fac-9668-684232bad385",
    "outputId": "452e0750-634d-404a-ae8a-bde83c1dfc0d"
   },
   "outputs": [
    {
     "name": "stdout",
     "output_type": "stream",
     "text": [
      "7495190 crime_chicago.csv\n"
     ]
    }
   ],
   "source": [
    "!wc -l crime_chicago.csv"
   ]
  },
  {
   "cell_type": "markdown",
   "id": "39f1561c-bb13-4388-84ed-bfecbcf6dfb6",
   "metadata": {},
   "source": [
    "Looking at the features"
   ]
  },
  {
   "cell_type": "code",
   "execution_count": 16,
   "id": "2b378572-685a-4929-8956-80f736f54a95",
   "metadata": {
    "id": "2b378572-685a-4929-8956-80f736f54a95",
    "outputId": "51fb46a7-927f-411f-9061-4cefec1ce244"
   },
   "outputs": [
    {
     "name": "stdout",
     "output_type": "stream",
     "text": [
      "root\n",
      " |-- ID: string (nullable = true)\n",
      " |-- Case Number: string (nullable = true)\n",
      " |-- Date: string (nullable = true)\n",
      " |-- Block: string (nullable = true)\n",
      " |-- IUCR: string (nullable = true)\n",
      " |-- Primary Type: string (nullable = true)\n",
      " |-- Description: string (nullable = true)\n",
      " |-- Location Description: string (nullable = true)\n",
      " |-- Arrest: boolean (nullable = true)\n",
      " |-- Domestic: boolean (nullable = true)\n",
      " |-- Beat: string (nullable = true)\n",
      " |-- District: integer (nullable = true)\n",
      " |-- Ward: string (nullable = true)\n",
      " |-- Community Area: string (nullable = true)\n",
      " |-- FBI Code: string (nullable = true)\n",
      " |-- X Coordinate: double (nullable = true)\n",
      " |-- Y Coordinate: double (nullable = true)\n",
      " |-- Year: integer (nullable = true)\n",
      " |-- Updated On: date (nullable = true)\n",
      " |-- Latitude: double (nullable = true)\n",
      " |-- Longitude: double (nullable = true)\n",
      " |-- Location: string (nullable = true)\n",
      "\n"
     ]
    }
   ],
   "source": [
    "df1.printSchema()"
   ]
  },
  {
   "cell_type": "markdown",
   "id": "d858ec96-a6e7-48d4-8401-6b41cda2cf3c",
   "metadata": {
    "id": "d858ec96-a6e7-48d4-8401-6b41cda2cf3c"
   },
   "source": [
    "### Counting the number of null values"
   ]
  },
  {
   "cell_type": "code",
   "execution_count": 17,
   "id": "01ac3444-76e9-4bac-9938-d4a8f5e7e1fa",
   "metadata": {
    "id": "01ac3444-76e9-4bac-9938-d4a8f5e7e1fa",
    "outputId": "bd0a0d74-7827-4737-b57c-cf183328869d"
   },
   "outputs": [
    {
     "name": "stdout",
     "output_type": "stream",
     "text": [
      "+---+-----------+----+-----+----+------------+-----------+--------------------+------+--------+----+--------+------+--------------+--------+------------+------------+----+----------+--------+---------+--------+\n",
      "| ID|Case Number|Date|Block|IUCR|Primary Type|Description|Location Description|Arrest|Domestic|Beat|District|  Ward|Community Area|FBI Code|X Coordinate|Y Coordinate|Year|Updated On|Latitude|Longitude|Location|\n",
      "+---+-----------+----+-----+----+------------+-----------+--------------------+------+--------+----+--------+------+--------------+--------+------------+------------+----+----------+--------+---------+--------+\n",
      "|  0|          4|   0|    0|   0|           0|          0|                9023|     0|       0|   0|      47|614840|        613478|       0|       77307|       77307|   0|   7495189|   77307|    77307|   77307|\n",
      "+---+-----------+----+-----+----+------------+-----------+--------------------+------+--------+----+--------+------+--------------+--------+------------+------------+----+----------+--------+---------+--------+\n",
      "\n"
     ]
    }
   ],
   "source": [
    "from pyspark.sql.functions import isnan, when, count, col\n",
    "df1.select([count(when(col(c).isNull(), c)).alias(c) for c in df1.columns]).show()\n"
   ]
  },
  {
   "cell_type": "markdown",
   "id": "a6f06314-81c6-4d04-aa75-3c57267814f2",
   "metadata": {
    "id": "a6f06314-81c6-4d04-aa75-3c57267814f2"
   },
   "source": [
    "### For better understanding I have only considered last ten years data"
   ]
  },
  {
   "cell_type": "code",
   "execution_count": 20,
   "id": "071597ff-f878-499d-8d0d-e5ea7616020a",
   "metadata": {
    "id": "071597ff-f878-499d-8d0d-e5ea7616020a"
   },
   "outputs": [],
   "source": [
    "last_ten_years=['2011','2012','2013','2014','2015','2016','2017','2018','2019','2020','2021']"
   ]
  },
  {
   "cell_type": "code",
   "execution_count": 21,
   "id": "f2effd9a-ce19-4978-bbbc-8741db77d065",
   "metadata": {
    "id": "f2effd9a-ce19-4978-bbbc-8741db77d065"
   },
   "outputs": [],
   "source": [
    "df2=df1.filter(df1.Year.isin(last_ten_years))"
   ]
  },
  {
   "cell_type": "code",
   "execution_count": 22,
   "id": "25bef54d-42e1-4c81-8ab8-509cd76b2e79",
   "metadata": {
    "id": "25bef54d-42e1-4c81-8ab8-509cd76b2e79",
    "outputId": "959f5b36-2958-4efb-da2b-509e16b3ad7b"
   },
   "outputs": [
    {
     "name": "stdout",
     "output_type": "stream",
     "text": [
      "+--------------------+\n",
      "|count(DISTINCT Year)|\n",
      "+--------------------+\n",
      "|                  11|\n",
      "+--------------------+\n",
      "\n"
     ]
    }
   ],
   "source": [
    "df2.select(F.countDistinct(\"Year\")).show()"
   ]
  },
  {
   "cell_type": "code",
   "execution_count": 23,
   "id": "f4e9fc96-093c-4ad4-8d57-019f5ec4e709",
   "metadata": {
    "id": "f4e9fc96-093c-4ad4-8d57-019f5ec4e709",
    "outputId": "8a0376c8-061f-4f9a-9ded-9e572ec5e956"
   },
   "outputs": [
    {
     "name": "stdout",
     "output_type": "stream",
     "text": [
      "+---+-----------+----+-----+----+------------+-----------+--------------------+------+--------+----+--------+----+--------------+--------+------------+------------+----+----------+--------+---------+--------+\n",
      "| ID|Case Number|Date|Block|IUCR|Primary Type|Description|Location Description|Arrest|Domestic|Beat|District|Ward|Community Area|FBI Code|X Coordinate|Y Coordinate|Year|Updated On|Latitude|Longitude|Location|\n",
      "+---+-----------+----+-----+----+------------+-----------+--------------------+------+--------+----+--------+----+--------------+--------+------------+------------+----+----------+--------+---------+--------+\n",
      "|  0|          1|   0|    0|   0|           0|          0|                8707|     0|       0|   0|       1|  68|           212|       0|       30527|       30527|   0|   3021616|   30527|    30527|   30527|\n",
      "+---+-----------+----+-----+----+------------+-----------+--------------------+------+--------+----+--------+----+--------------+--------+------------+------------+----+----------+--------+---------+--------+\n",
      "\n"
     ]
    }
   ],
   "source": [
    "df2.select([count(when(col(c).isNull(), c)).alias(c) for c in df2.columns]).show()"
   ]
  },
  {
   "cell_type": "markdown",
   "id": "630bd3f4-f68b-4f19-9289-5c3032a2ad24",
   "metadata": {},
   "source": [
    "### Different crime types\n",
    "Before we actually analyze the data its importnat to get an idea about the data so here we can get an idea about different crimes happening across chicago, based on this we can remove crimes that are not imperative and I will try to merge the crimes which are similar. "
   ]
  },
  {
   "cell_type": "code",
   "execution_count": 24,
   "id": "6a40d402-27d1-4f74-83a4-ab4a5170c139",
   "metadata": {
    "id": "6a40d402-27d1-4f74-83a4-ab4a5170c139",
    "outputId": "6033df5a-440f-4cf7-aee8-6aedefbb2eb5"
   },
   "outputs": [
    {
     "data": {
      "text/plain": [
       "['OFFENSE INVOLVING CHILDREN',\n",
       " 'CRIMINAL SEXUAL ASSAULT',\n",
       " 'STALKING',\n",
       " 'PUBLIC PEACE VIOLATION',\n",
       " 'OBSCENITY',\n",
       " 'NON-CRIMINAL (SUBJECT SPECIFIED)',\n",
       " 'ARSON',\n",
       " 'GAMBLING',\n",
       " 'CRIMINAL TRESPASS',\n",
       " 'ASSAULT',\n",
       " 'NON - CRIMINAL',\n",
       " 'LIQUOR LAW VIOLATION',\n",
       " 'MOTOR VEHICLE THEFT',\n",
       " 'THEFT',\n",
       " 'BATTERY',\n",
       " 'ROBBERY',\n",
       " 'HOMICIDE',\n",
       " 'PUBLIC INDECENCY',\n",
       " 'CRIM SEXUAL ASSAULT',\n",
       " 'HUMAN TRAFFICKING',\n",
       " 'INTIMIDATION',\n",
       " 'PROSTITUTION',\n",
       " 'DECEPTIVE PRACTICE',\n",
       " 'CONCEALED CARRY LICENSE VIOLATION',\n",
       " 'SEX OFFENSE',\n",
       " 'CRIMINAL DAMAGE',\n",
       " 'NARCOTICS',\n",
       " 'NON-CRIMINAL',\n",
       " 'OTHER OFFENSE',\n",
       " 'KIDNAPPING',\n",
       " 'BURGLARY',\n",
       " 'WEAPONS VIOLATION',\n",
       " 'OTHER NARCOTIC VIOLATION',\n",
       " 'INTERFERENCE WITH PUBLIC OFFICER',\n",
       " 'RITUALISM']"
      ]
     },
     "execution_count": 24,
     "metadata": {},
     "output_type": "execute_result"
    }
   ],
   "source": [
    "df2.select('Primary Type').distinct().rdd.map(lambda r: r[0]).collect()"
   ]
  },
  {
   "cell_type": "code",
   "execution_count": null,
   "id": "af88eaff-267d-4aba-94a7-d99199160e59",
   "metadata": {
    "id": "af88eaff-267d-4aba-94a7-d99199160e59",
    "outputId": "d8ae3248-b3de-406d-e7b9-c2f3ff81690c"
   },
   "outputs": [
    {
     "data": {
      "text/plain": [
       "7495189"
      ]
     },
     "execution_count": 25,
     "metadata": {},
     "output_type": "execute_result"
    }
   ],
   "source": [
    "df1.count()"
   ]
  },
  {
   "cell_type": "code",
   "execution_count": null,
   "id": "a9fde54a-3ea1-44eb-a9df-312b0a004b0e",
   "metadata": {
    "id": "a9fde54a-3ea1-44eb-a9df-312b0a004b0e",
    "outputId": "86cce2e2-5e8a-4b86-f0c2-fece68025a5e"
   },
   "outputs": [
    {
     "data": {
      "text/plain": [
       "3021616"
      ]
     },
     "execution_count": 26,
     "metadata": {},
     "output_type": "execute_result"
    }
   ],
   "source": [
    "df2.count()"
   ]
  },
  {
   "cell_type": "markdown",
   "id": "c52f4033-4d48-486c-8410-2186b9d8046c",
   "metadata": {},
   "source": [
    "Before and after trimming the data based on the years we can observe the difference in number of records."
   ]
  },
  {
   "cell_type": "markdown",
   "id": "431f7894-21e8-4aa7-8cef-27aa8c370d56",
   "metadata": {
    "id": "431f7894-21e8-4aa7-8cef-27aa8c370d56"
   },
   "source": [
    "### Dropping columns which are unecessary"
   ]
  },
  {
   "cell_type": "code",
   "execution_count": 27,
   "id": "e0700fb7-e3c9-4104-a936-cd8e212c04c3",
   "metadata": {
    "id": "e0700fb7-e3c9-4104-a936-cd8e212c04c3"
   },
   "outputs": [],
   "source": [
    "dataset = df2.drop('Case Number')\\\n",
    "            .drop('FBI Code')\\\n",
    "            .drop('Updated On')"
   ]
  },
  {
   "cell_type": "code",
   "execution_count": 28,
   "id": "04fef9ea-6a79-4234-8c70-272fda3e62ed",
   "metadata": {
    "id": "04fef9ea-6a79-4234-8c70-272fda3e62ed"
   },
   "outputs": [],
   "source": [
    "dataset = dataset.na.drop()"
   ]
  },
  {
   "cell_type": "code",
   "execution_count": 29,
   "id": "6098c0e1-b86e-4f04-add9-ec5ad9deb649",
   "metadata": {
    "id": "6098c0e1-b86e-4f04-add9-ec5ad9deb649",
    "outputId": "4642c115-54d3-41a9-baf7-152b24eba3f4"
   },
   "outputs": [
    {
     "name": "stdout",
     "output_type": "stream",
     "text": [
      "+---+----+-----+----+------------+-----------+--------------------+------+--------+----+--------+----+--------------+------------+------------+----+--------+---------+--------+\n",
      "| ID|Date|Block|IUCR|Primary Type|Description|Location Description|Arrest|Domestic|Beat|District|Ward|Community Area|X Coordinate|Y Coordinate|Year|Latitude|Longitude|Location|\n",
      "+---+----+-----+----+------------+-----------+--------------------+------+--------+----+--------+----+--------------+------------+------------+----+--------+---------+--------+\n",
      "|  0|   0|    0|   0|           0|          0|                   0|     0|       0|   0|       0|   0|             0|           0|           0|   0|       0|        0|       0|\n",
      "+---+----+-----+----+------------+-----------+--------------------+------+--------+----+--------+----+--------------+------------+------------+----+--------+---------+--------+\n",
      "\n"
     ]
    }
   ],
   "source": [
    "dataset.select([count(when(col(c).isNull(), c)).alias(c) for c in dataset.columns]).show()"
   ]
  },
  {
   "cell_type": "markdown",
   "id": "48a22f23-7cdc-403c-bc6b-35141f8c92d0",
   "metadata": {},
   "source": [
    "#### Removing all the unecessary crime types "
   ]
  },
  {
   "cell_type": "code",
   "execution_count": 30,
   "id": "681570bf-d857-4430-88e7-75525ed65169",
   "metadata": {
    "id": "681570bf-d857-4430-88e7-75525ed65169"
   },
   "outputs": [],
   "source": [
    "dataset=dataset.filter((dataset[\"Primary Type\"]  !=  'NON-CRIMINAL (SUBJECT SPECIFIED)') & \n",
    "               (dataset[\"Primary Type\"]  !=  'OTHER OFFENSE') &\n",
    "               (dataset[\"Primary Type\"]  !=  'STALKING')&\n",
    "               (dataset[\"Primary Type\"]  !=  'NON - CRIMINAL')&\n",
    "               (dataset[\"Primary Type\"]  !=  'ARSON'))  "
   ]
  },
  {
   "cell_type": "markdown",
   "id": "01746025-634e-4c3e-a311-0de50ca21516",
   "metadata": {},
   "source": [
    "#### Merging the crime types which are similar"
   ]
  },
  {
   "cell_type": "code",
   "execution_count": 31,
   "id": "def54265-c0d7-4e9b-9668-00aa602e79a8",
   "metadata": {
    "id": "def54265-c0d7-4e9b-9668-00aa602e79a8"
   },
   "outputs": [],
   "source": [
    "dataset = dataset.withColumn(\"Primary Type\", \\\n",
    "                               when((dataset[\"Primary Type\"] == 'SEX OFFENSE') | \\\n",
    "                                    (dataset[\"Primary Type\"] == 'PROSTITUTION') ,'CRIM SEXUAL ASSAULT').otherwise(dataset['Primary Type']))"
   ]
  },
  {
   "cell_type": "code",
   "execution_count": 159,
   "id": "91ff04d4-51f3-45dc-9234-4053de986ef0",
   "metadata": {
    "id": "91ff04d4-51f3-45dc-9234-4053de986ef0",
    "outputId": "a5831671-e528-4351-ab8e-7ed96925781e"
   },
   "outputs": [
    {
     "name": "stdout",
     "output_type": "stream",
     "text": [
      "Different type of crimes which occur more\n",
      "+--------------------+------+\n",
      "|        Primary Type| count|\n",
      "+--------------------+------+\n",
      "|               THEFT|669273|\n",
      "|             BATTERY|552073|\n",
      "|     CRIMINAL DAMAGE|324105|\n",
      "|           NARCOTICS|222543|\n",
      "|             ASSAULT|209507|\n",
      "|  DECEPTIVE PRACTICE|167464|\n",
      "|            BURGLARY|158858|\n",
      "| MOTOR VEHICLE THEFT|130240|\n",
      "|             ROBBERY|115942|\n",
      "|   CRIMINAL TRESPASS| 73231|\n",
      "|   WEAPONS VIOLATION| 54740|\n",
      "| CRIM SEXUAL ASSAULT| 35260|\n",
      "|OFFENSE INVOLVING...| 23715|\n",
      "|PUBLIC PEACE VIOL...| 22391|\n",
      "|INTERFERENCE WITH...| 12095|\n",
      "|            HOMICIDE|  6488|\n",
      "|CRIMINAL SEXUAL A...|  3679|\n",
      "|LIQUOR LAW VIOLATION|  3581|\n",
      "|            GAMBLING|  3520|\n",
      "|          KIDNAPPING|  2092|\n",
      "+--------------------+------+\n",
      "only showing top 20 rows\n",
      "\n"
     ]
    }
   ],
   "source": [
    "primaryCount = dataset.groupby('Primary Type').count()\n",
    "print('Different type of crimes which occur more')\n",
    "primaryCount.orderBy('count', ascending=False).show()"
   ]
  },
  {
   "cell_type": "markdown",
   "id": "25afd290-44d4-4994-a3c8-643753980e5f",
   "metadata": {},
   "source": [
    "## The top ten crimes in chicago "
   ]
  },
  {
   "cell_type": "code",
   "execution_count": 33,
   "id": "9ff9f9d0-368c-45b9-91e3-e716f0a730b5",
   "metadata": {
    "id": "9ff9f9d0-368c-45b9-91e3-e716f0a730b5",
    "outputId": "8221a059-6be6-4d76-8b02-8c191e770578"
   },
   "outputs": [
    {
     "data": {
      "image/png": "[encoded data removed]",
      "text/plain": [
       "<Figure size 432x288 with 1 Axes>"
      ]
     },
     "metadata": {
      "needs_background": "light"
     },
     "output_type": "display_data"
    }
   ],
   "source": [
    "pdf = primaryCount.toPandas()\n",
    "pdf = pdf.sort_values(by=\"count\", ascending= True)\n",
    "pdf = pdf.tail(10)\n",
    "pdf.plot(kind='barh', x='Primary Type', y='count', colormap='twilight_shifted')\n",
    "plt.title(\"Top 10 Crimes in Chicago\", fontdict = {'fontsize': 20,  'color': '#000000'})\n",
    "plt.ylabel('Crimes')\n",
    "plt.xticks(rotation=30)\n",
    "plt.show()"
   ]
  },
  {
   "cell_type": "code",
   "execution_count": 34,
   "id": "7d753c65-3d01-4c48-bd11-48da30f7efd6",
   "metadata": {
    "id": "7d753c65-3d01-4c48-bd11-48da30f7efd6",
    "outputId": "e281fc7a-f039-465a-c287-893630e63258"
   },
   "outputs": [
    {
     "name": "stdout",
     "output_type": "stream",
     "text": [
      "\n",
      "+----+------+\n",
      "|Year|count |\n",
      "+----+------+\n",
      "|2011|330055|\n",
      "|2012|316943|\n",
      "|2013|287827|\n",
      "|2014|256118|\n",
      "|2015|239871|\n",
      "|2016|248581|\n",
      "|2017|246547|\n",
      "|2018|245299|\n",
      "|2019|240820|\n",
      "|2020|194254|\n",
      "+----+------+\n",
      "only showing top 10 rows\n",
      "\n"
     ]
    }
   ],
   "source": [
    "year_wise = dataset.groupBy(['Year'])\\\n",
    "                     .count()\\\n",
    "                     .orderBy(['Year', 'count'], ascending=[True, False])\n",
    "print()\n",
    "year_wise.show(10, truncate=False)"
   ]
  },
  {
   "cell_type": "code",
   "execution_count": 35,
   "id": "2c197206-31ee-40f8-9f83-5c5ee9213f33",
   "metadata": {
    "id": "2c197206-31ee-40f8-9f83-5c5ee9213f33",
    "outputId": "e24dc718-92dc-4c4b-8415-2cd22124b367"
   },
   "outputs": [
    {
     "data": {
      "text/plain": [
       "<matplotlib.legend.Legend at 0xffff745063d0>"
      ]
     },
     "execution_count": 35,
     "metadata": {},
     "output_type": "execute_result"
    },
    {
     "data": {
      "image/png": "[encoded data removed]",
      "text/plain": [
       "<Figure size 432x288 with 1 Axes>"
      ]
     },
     "metadata": {
      "needs_background": "light"
     },
     "output_type": "display_data"
    }
   ],
   "source": [
    "year_wise = year_wise.toPandas()\n",
    "fig, ax = plt.subplots()\n",
    "ax.plot(year_wise['Year'], year_wise['count'], label='Year Wise crime')\n",
    "ax.set(xlabel='Year - 2001-2017', ylabel='Total records',\n",
    "       title='Year wise crime records')\n",
    "ax.grid(which='both', axis='both')\n",
    "ax.legend()"
   ]
  },
  {
   "cell_type": "code",
   "execution_count": 36,
   "id": "28366833-c4fc-49bb-b1e5-08d3e649d470",
   "metadata": {
    "id": "28366833-c4fc-49bb-b1e5-08d3e649d470"
   },
   "outputs": [],
   "source": [
    "dataset = dataset.withColumn('datetime', to_timestamp('Date', 'MM/dd/yyyy hh:mm:ss a'))"
   ]
  },
  {
   "cell_type": "code",
   "execution_count": 37,
   "id": "52207a1c-34fc-406b-a88e-c4cb875151cd",
   "metadata": {
    "id": "52207a1c-34fc-406b-a88e-c4cb875151cd"
   },
   "outputs": [],
   "source": [
    "#dataset = dataset.withColumn(\"datetime\", trunc(col(\"datetime\"),\"Month\").alias(\"Month\"))"
   ]
  },
  {
   "cell_type": "code",
   "execution_count": 38,
   "id": "473d102c-e5c2-4694-a724-a74fb8b5c350",
   "metadata": {
    "id": "473d102c-e5c2-4694-a724-a74fb8b5c350"
   },
   "outputs": [],
   "source": [
    "mon_wise = dataset.select(\"datetime\", month(col(\"datetime\")).alias(\"dmonth\"), )"
   ]
  },
  {
   "cell_type": "code",
   "execution_count": 39,
   "id": "91b9fed8-4978-4c79-8434-f5c1d4541c06",
   "metadata": {
    "id": "91b9fed8-4978-4c79-8434-f5c1d4541c06",
    "outputId": "68a874ac-6b53-4a4f-a564-a516d9acff9d"
   },
   "outputs": [
    {
     "name": "stdout",
     "output_type": "stream",
     "text": [
      "+------+------+\n",
      "|dmonth| count|\n",
      "+------+------+\n",
      "|     1|219317|\n",
      "|     2|190191|\n",
      "|     3|224068|\n",
      "|     4|221165|\n",
      "|     5|249106|\n",
      "|     6|252011|\n",
      "|     7|263232|\n",
      "|     8|260098|\n",
      "|     9|241842|\n",
      "|    10|240443|\n",
      "|    11|218085|\n",
      "|    12|214624|\n",
      "+------+------+\n",
      "\n"
     ]
    }
   ],
   "source": [
    "monthcount = mon_wise.groupby('dmonth').count()\n",
    "monthcount.orderBy('dmonth', ascending=True).show()"
   ]
  },
  {
   "cell_type": "code",
   "execution_count": 40,
   "id": "eec60ce2-09f8-49b7-b770-c64bb5361ec7",
   "metadata": {
    "id": "eec60ce2-09f8-49b7-b770-c64bb5361ec7"
   },
   "outputs": [],
   "source": [
    "dfm = monthcount.orderBy('dmonth', ascending=True)"
   ]
  },
  {
   "cell_type": "code",
   "execution_count": 41,
   "id": "4a8a75c7-bda2-4345-9c45-82792877b759",
   "metadata": {
    "id": "4a8a75c7-bda2-4345-9c45-82792877b759",
    "outputId": "52b92122-c63a-4b02-a22b-98f2d6a9a06e"
   },
   "outputs": [
    {
     "data": {
      "text/plain": [
       "<matplotlib.legend.Legend at 0xffff74291250>"
      ]
     },
     "execution_count": 41,
     "metadata": {},
     "output_type": "execute_result"
    },
    {
     "data": {
      "image/png": "[encoded data removed]",
      "text/plain": [
       "<Figure size 432x288 with 1 Axes>"
      ]
     },
     "metadata": {
      "needs_background": "light"
     },
     "output_type": "display_data"
    }
   ],
   "source": [
    "dfm = dfm.toPandas()\n",
    "fig, ax = plt.subplots()\n",
    "ax.plot(dfm['dmonth'], dfm['count'], label='Month Wise crime')\n",
    "ax.set(xlabel='Year - 2001-2017', ylabel='Total records',\n",
    "       title='Year wise crime records')\n",
    "ax.grid(which='both', axis='both')\n",
    "ax.legend()"
   ]
  },
  {
   "cell_type": "code",
   "execution_count": null,
   "id": "ae03167e-1c55-4b61-aa19-34f3c5ee9fe4",
   "metadata": {},
   "outputs": [],
   "source": [
    "only_hrs = dataset.select(\"datetime\", hour(col(\"datetime\")).alias(\"dhour\"), )"
   ]
  },
  {
   "cell_type": "code",
   "execution_count": null,
   "id": "3993ab3d-ce02-427c-8714-bd73676db078",
   "metadata": {},
   "outputs": [],
   "source": [
    "hrs_count = only_hrs.groupby('dhour').count()\n",
    "hrs_count = hrs_count.orderBy('dhour', ascending=True)"
   ]
  },
  {
   "cell_type": "code",
   "execution_count": 90,
   "id": "1f516d67-f1b8-4b6e-ae58-8fed728d591d",
   "metadata": {},
   "outputs": [
    {
     "data": {
      "text/plain": [
       "<matplotlib.legend.Legend at 0xffff64365af0>"
      ]
     },
     "execution_count": 90,
     "metadata": {},
     "output_type": "execute_result"
    },
    {
     "data": {
      "image/png": "[encoded data removed]",
      "text/plain": [
       "<Figure size 432x288 with 1 Axes>"
      ]
     },
     "metadata": {
      "needs_background": "light"
     },
     "output_type": "display_data"
    }
   ],
   "source": [
    "hrs_count = hrs_count.toPandas()\n",
    "fig, ax = plt.subplots()\n",
    "ax.plot(hrs_count['dhour'], hrs_count['count'], label='Hourly Crime Rate ')\n",
    "ax.set(xlabel='Hrs of the Day', ylabel='Total records',\n",
    "       title='Crime Rate during a day')\n",
    "ax.grid(which='both', axis='both')\n",
    "ax.legend()"
   ]
  },
  {
   "cell_type": "code",
   "execution_count": 44,
   "id": "f74edd3a-51a6-4a6d-a940-89412c54703c",
   "metadata": {},
   "outputs": [],
   "source": [
    "dis_list= ['31','12','22','1','6','16','3','20','5','19','15','9','17','4','8','7','10','25','24','11','14','2','18','21']"
   ]
  },
  {
   "cell_type": "code",
   "execution_count": 45,
   "id": "cf1a4d5a-ccc8-40cc-bea9-562af14e5e37",
   "metadata": {
    "id": "cf1a4d5a-ccc8-40cc-bea9-562af14e5e37"
   },
   "outputs": [],
   "source": [
    "distrtict = spark.read.csv(\"Police_Stations.csv\",sep=\",\", header=True, nullValue='NA')"
   ]
  },
  {
   "cell_type": "code",
   "execution_count": 46,
   "id": "103577f9-d2f7-47ac-9657-d7df68ac7f6b",
   "metadata": {},
   "outputs": [],
   "source": [
    "district = distrtict.filter(distrtict.DISTRICT.isin(dis_list))"
   ]
  },
  {
   "cell_type": "code",
   "execution_count": 47,
   "id": "1a024be7-6b6d-4d4b-bd33-808728c8df5c",
   "metadata": {},
   "outputs": [],
   "source": [
    "district = district.withColumn(\"DISTRICT\", district[\"DISTRICT\"].cast(IntegerType()))"
   ]
  },
  {
   "cell_type": "code",
   "execution_count": 48,
   "id": "aba393e7-4f46-42ee-857a-bac8a830ae52",
   "metadata": {},
   "outputs": [],
   "source": [
    "dis_mer_df = dataset.filter(dataset.District.isin(dis_list))"
   ]
  },
  {
   "cell_type": "code",
   "execution_count": 49,
   "id": "9e07b9da-0204-4144-97c2-8c8e997f8526",
   "metadata": {},
   "outputs": [],
   "source": [
    "district = district.select('DISTRICT','DISTRICT NAME')"
   ]
  },
  {
   "cell_type": "code",
   "execution_count": 50,
   "id": "f10ae57d-e94e-421b-a30e-0125c9f3f16e",
   "metadata": {},
   "outputs": [],
   "source": [
    "dis_mer_df = dis_mer_df.select('District')"
   ]
  },
  {
   "cell_type": "code",
   "execution_count": 51,
   "id": "8c2cb231-1b65-4f02-bfc2-34e57828b419",
   "metadata": {},
   "outputs": [],
   "source": [
    "district_df = dis_mer_df.join(district,dis_mer_df.District == district.DISTRICT,\"inner\")"
   ]
  },
  {
   "cell_type": "code",
   "execution_count": 52,
   "id": "0b878126-f94f-4510-97d1-1b64415b1d79",
   "metadata": {
    "id": "0b878126-f94f-4510-97d1-1b64415b1d79"
   },
   "outputs": [
    {
     "name": "stdout",
     "output_type": "stream",
     "text": [
      "root\n",
      " |-- DISTRICT: integer (nullable = true)\n",
      " |-- DISTRICT NAME: string (nullable = true)\n",
      "\n"
     ]
    }
   ],
   "source": [
    "district.printSchema()"
   ]
  },
  {
   "cell_type": "code",
   "execution_count": 67,
   "id": "dd074231-59f2-4e0d-9282-dfb3b88b723c",
   "metadata": {},
   "outputs": [
    {
     "name": "stdout",
     "output_type": "stream",
     "text": [
      "+--------------+------+\n",
      "| DISTRICT NAME| count|\n",
      "+--------------+------+\n",
      "|      Harrison|195003|\n",
      "|  Chicago Lawn|180590|\n",
      "|       Gresham|171141|\n",
      "| South Chicago|159920|\n",
      "|     Englewood|156677|\n",
      "| Grand Central|152445|\n",
      "|Grand Crossing|137621|\n",
      "|     Near West|137154|\n",
      "|    Near North|136407|\n",
      "|       Deering|130967|\n",
      "|       Central|129786|\n",
      "|     Town Hall|128037|\n",
      "|         Ogden|127894|\n",
      "|       Calumet|124458|\n",
      "|     Wentworth|118537|\n",
      "|        Austin|117776|\n",
      "|   Shakespeare|101129|\n",
      "|Jefferson Park| 91124|\n",
      "|   Morgan Park| 89480|\n",
      "|   Rogers Park| 80994|\n",
      "+--------------+------+\n",
      "only showing top 20 rows\n",
      "\n"
     ]
    }
   ],
   "source": [
    "dcount = district_df.groupby('DISTRICT NAME').count()\n",
    "dcount.orderBy(\"count\", ascending=False).show()"
   ]
  },
  {
   "cell_type": "code",
   "execution_count": 68,
   "id": "2e4d299e-9af6-4fec-a565-44e59ac70634",
   "metadata": {},
   "outputs": [],
   "source": [
    "dcount = dcount.orderBy(\"count\", ascending=False)"
   ]
  },
  {
   "cell_type": "code",
   "execution_count": 85,
   "id": "7178b87b-1d4e-464a-8206-c6771ae94c6d",
   "metadata": {},
   "outputs": [
    {
     "data": {
      "image/png": "[encoded data removed]",
      "text/plain": [
       "<Figure size 432x288 with 1 Axes>"
      ]
     },
     "metadata": {
      "needs_background": "light"
     },
     "output_type": "display_data"
    }
   ],
   "source": [
    "dcount = dcount.toPandas()\n",
    "dcount = dcount.head(10)\n",
    "dcount.plot(kind='bar', x='DISTRICT NAME', y='count', colormap='twilight_shifted')\n",
    "plt.title(\"Top 10 Places where Crime occurs Chicago\", fontdict = {'fontsize': 20,  'color': '#000000'})\n",
    "plt.ylabel('places')\n",
    "plt.xticks(rotation=30)\n",
    "plt.show()"
   ]
  },
  {
   "cell_type": "code",
   "execution_count": 91,
   "id": "9969c8ec-d2c5-47cb-9e24-fb8e1d5c9290",
   "metadata": {},
   "outputs": [],
   "source": [
    "arrested = dataset[dataset['Arrest'] == True]\n",
    "not_arrested = dataset[dataset['Arrest'] == False]"
   ]
  },
  {
   "cell_type": "code",
   "execution_count": 100,
   "id": "13435d93-d877-4583-b952-58b3efbeed8d",
   "metadata": {},
   "outputs": [],
   "source": [
    "arrested_df = arrested.groupby('Year').count()\n",
    "arrested_df = arrested_df.orderBy('Year',ascending=True)"
   ]
  },
  {
   "cell_type": "code",
   "execution_count": 102,
   "id": "712d45a6-a6c0-4586-8920-454eec5c080d",
   "metadata": {},
   "outputs": [],
   "source": [
    "not_arrested_df = not_arrested.groupby('Year').count()\n",
    "not_arrested_df = not_arrested_df.orderBy('Year',ascending=True)"
   ]
  },
  {
   "cell_type": "code",
   "execution_count": 108,
   "id": "4a27f945-83fa-420f-87b0-b2ec9d1600b5",
   "metadata": {},
   "outputs": [
    {
     "data": {
      "text/plain": [
       "<matplotlib.legend.Legend at 0xffff616b0bb0>"
      ]
     },
     "execution_count": 108,
     "metadata": {},
     "output_type": "execute_result"
    },
    {
     "data": {
      "image/png": "[encoded data removed]",
      "text/plain": [
       "<Figure size 432x288 with 1 Axes>"
      ]
     },
     "metadata": {
      "needs_background": "light"
     },
     "output_type": "display_data"
    }
   ],
   "source": [
    "arrested_df = arrested_df.toPandas()\n",
    "not_arrested_df = not_arrested_df.toPandas()\n",
    "fig, ax = plt.subplots()\n",
    "ax.plot(arrested_df['Year'], arrested_df['count'], label='Arrested')\n",
    "ax.plot(not_arrested_df['Year'], not_arrested_df['count'], label='Not Arrested')\n",
    "\n",
    "ax.set(xlabel='Year - 2011-2021', ylabel='Total records',\n",
    "       title='Year-on-year crime records')\n",
    "ax.grid(which='both', axis='y')\n",
    "ax.legend()"
   ]
  },
  {
   "cell_type": "code",
   "execution_count": 109,
   "id": "ec59195b-7f85-4f7a-9d0f-454e5d36791e",
   "metadata": {},
   "outputs": [],
   "source": [
    "communityarea = spark.read.csv(\"communityarea.csv\",sep=\",\", header=True, nullValue='NA')"
   ]
  },
  {
   "cell_type": "code",
   "execution_count": 114,
   "id": "538c1d1e-4f61-437d-8d82-21bc7a4527b8",
   "metadata": {},
   "outputs": [],
   "source": [
    "communityarea = communityarea.select(\"GEOID\",\"GEOG\")"
   ]
  },
  {
   "cell_type": "code",
   "execution_count": 116,
   "id": "df62c6f9-f41e-4b11-a09c-29e5bae81657",
   "metadata": {},
   "outputs": [
    {
     "name": "stdout",
     "output_type": "stream",
     "text": [
      "+-------+------------------+\n",
      "|com_num|          com_name|\n",
      "+-------+------------------+\n",
      "|     14|       Albany Park|\n",
      "|     57|    Archer Heights|\n",
      "|     34|     Armour Square|\n",
      "|     70|           Ashburn|\n",
      "|     71|    Auburn Gresham|\n",
      "|     25|            Austin|\n",
      "|     45|       Avalon Park|\n",
      "|     21|          Avondale|\n",
      "|     19|    Belmont Cragin|\n",
      "|     72|           Beverly|\n",
      "|     60|        Bridgeport|\n",
      "|     58|     Brighton Park|\n",
      "|     47|          Burnside|\n",
      "|     48|   Calumet Heights|\n",
      "|     44|           Chatham|\n",
      "|     66|      Chicago Lawn|\n",
      "|     64|          Clearing|\n",
      "|     35|           Douglas|\n",
      "|     17|           Dunning|\n",
      "|     27|East Garfield Park|\n",
      "+-------+------------------+\n",
      "only showing top 20 rows\n",
      "\n"
     ]
    }
   ],
   "source": [
    "communityarea = communityarea.select(col(\"GEOID\").alias(\"com_num\"), col(\"GEOG\").alias(\"com_name\"))"
   ]
  },
  {
   "cell_type": "code",
   "execution_count": 130,
   "id": "851bd6a3-bb12-4695-81aa-eae92d4d4c74",
   "metadata": {},
   "outputs": [],
   "source": [
    "dataset_com = dataset.select(\"Primary Type\", \"Community Area\")\n",
    "dataset_com = dataset_com.select(col(\"Primary Type\").alias(\"primary\"), col(\"Community Area\").alias(\"c_id\"))"
   ]
  },
  {
   "cell_type": "code",
   "execution_count": 149,
   "id": "9dac3e67-2f0b-4b77-8a0a-5386159cffd6",
   "metadata": {},
   "outputs": [],
   "source": [
    "com_df3 = communityarea.join(dataset_com,communityarea.com_num == dataset_com.c_id,\"inner\")"
   ]
  },
  {
   "cell_type": "code",
   "execution_count": 152,
   "id": "83f74ea9-0489-4386-a1d6-9761956739b3",
   "metadata": {},
   "outputs": [],
   "source": [
    "com_df1 = com_df3.groupby('com_name').count()\n",
    "com_df1 = com_df1.orderBy('count',ascending=False)"
   ]
  },
  {
   "cell_type": "code",
   "execution_count": 157,
   "id": "2699c3ac-bdfe-4874-8447-2b23cc04ec6d",
   "metadata": {},
   "outputs": [
    {
     "data": {
      "image/png": "[encoded data removed]",
      "text/plain": [
       "<Figure size 432x288 with 1 Axes>"
      ]
     },
     "metadata": {
      "needs_background": "light"
     },
     "output_type": "display_data"
    }
   ],
   "source": [
    "com_df = com_df1.toPandas()\n",
    "com_df = com_df.head(10)\n",
    "com_df.plot(kind='bar', x='com_name', y='count', colormap='twilight_shifted')\n",
    "plt.title(\"Top 10 Communities where Crime occurs Chicago\", fontdict = {'fontsize': 20,  'color': '#000000'})\n",
    "plt.xlabel('Community name')\n",
    "plt.ylabel('places')\n",
    "plt.xticks(rotation=30)\n",
    "plt.show()"
   ]
  },
  {
   "cell_type": "code",
   "execution_count": null,
   "id": "16c88468-baea-446a-93bc-98ab73f59ae3",
   "metadata": {},
   "outputs": [],
   "source": []
  }
 ],
 "metadata": {
  "colab": {
   "collapsed_sections": [
    "d858ec96-a6e7-48d4-8401-6b41cda2cf3c",
    "a6f06314-81c6-4d04-aa75-3c57267814f2"
   ],
   "name": "project.ipynb",
   "provenance": []
  },
  "kernelspec": {
   "display_name": "Python 3 (ipykernel)",
   "language": "python",
   "name": "python3"
  },
  "language_info": {
   "codemirror_mode": {
    "name": "ipython",
    "version": 3
   },
   "file_extension": ".py",
   "mimetype": "text/x-python",
   "name": "python",
   "nbconvert_exporter": "python",
   "pygments_lexer": "ipython3",
   "version": "3.9.10"
  }
 },
 "nbformat": 4,
 "nbformat_minor": 5
}
